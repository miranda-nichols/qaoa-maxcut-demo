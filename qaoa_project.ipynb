{
 "cells": [
  {
   "cell_type": "markdown",
   "id": "7dc089ef",
   "metadata": {},
   "source": [
    "QAOA for Max-Cut — Learning Qiskit\n",
    "\n",
    "Here I use Qiskit to explore how the Quantum Approximate\n",
    "Optimization Algorithm (QAOA) works on a Max-Cut problem\n",
    "\n",
    "The basic idea:\n",
    "- We have a set of points (nodes) connected by lines (edges)\n",
    "- We want to split the points into two groups so that as many lines as possible\n",
    "  go between the groups\n",
    "- The number of “between-group” lines is called the cut size which is what will be maximized\n",
    "\n",
    "Why QAOA?\n",
    "- QAOA is a hybrid quantum–classical algorithm for solving optimization problems\n",
    "- The quantum circuit generates solutions\n",
    "- A classical loop adjusts the circuit parameters for optimization\n",
    "\n",
    "Plan for this notebook:\n",
    "1. Make a small random graph\n",
    "2. Build a simple QAOA circuit for it\n",
    "3. Run the circuit on Qiskit’s Aer simulator to get measurement results\n",
    "4. Score the results by their cut size\n",
    "5. Compare to the exact best cut for the same graph\n",
    "6. Plot the best split we find\n",
    "\n",
    "Goal: Understand the basics of building, running, and analyzing a quantum circuit in Qiskit\n",
    "\n",
    "Reflection: This uses the same principles behind discretizing TDSE on a grid for solving \n",
    "\n",
    "Next logical steps: going to p=2 for another optimization layer, use scipy for param opt instead of brute force \n"
   ]
  },
  {
   "cell_type": "code",
   "execution_count": null,
   "id": "1932117e",
   "metadata": {},
   "outputs": [],
   "source": [
    "import numpy as np\n",
    "import networkx as nx\n",
    "import matplotlib.pyplot as plt\n",
    "from scipy.optimize import minimize\n",
    "from itertools import product\n",
    "\n",
    "from qiskit import QuantumCircuit, transpile\n",
    "from qiskit_aer import Aer"
   ]
  },
  {
   "cell_type": "code",
   "execution_count": 27,
   "id": "61089514",
   "metadata": {},
   "outputs": [],
   "source": [
    "def cut_value(G, bitstring: str) -> int:\n",
    "    \"\"\"\n",
    "    Score a bitstring (\"0101\") for Max-Cut\n",
    "    +1 for every edge whose endpoints land in different groups (0 vs 1)\n",
    "    \"\"\"\n",
    "    z = np.array([1 if c == '1' else 0 for c in bitstring], dtype=int) # stores as array \n",
    "    return sum(int(z[u] != z[v]) for u, v in G.edges()) # summing the nodes in each edge if different group"
   ]
  },
  {
   "cell_type": "code",
   "execution_count": 28,
   "id": "09666115",
   "metadata": {},
   "outputs": [],
   "source": [
    "def expected_cut_from_counts(G, counts: dict) -> float:\n",
    "    \"\"\"\n",
    "    Turn raw measurement counts into an expected cut size.\n",
    "    (Weighted average of cut_value over all observed bitstrings)\n",
    "    \"\"\"\n",
    "    shots = sum(counts.values()) # times the circut was ran \n",
    "    return sum((freq / shots) * cut_value(G, s) for s, freq in counts.items()) # probability * cut edges so it's like a weighting factor \n"
   ]
  },
  {
   "cell_type": "code",
   "execution_count": 29,
   "id": "f2b4fdbd",
   "metadata": {},
   "outputs": [],
   "source": [
    "def qaoa_circuit_p1(G, gamma: float, beta: float) -> QuantumCircuit:\n",
    "    \"\"\"\n",
    "    Build a p=1 QAOA circuit for Max-Cut (1 cost layer -> 1 mixer layer -> measure)\n",
    "    - Start in uniform superposition (H on all qubits)\n",
    "    - Cost layer per edge: CX(i,j) -> RZ(2γ) on j -> CX(i,j)\n",
    "    - Mixer: RX(2β) on each qubit\n",
    "    - Measure all qubits\n",
    "    \"\"\"\n",
    "    # start in uniform superposition by applying Hadamard gate (putting the qubit into the sp)\n",
    "    n = G.number_of_nodes() # nodes in graph\n",
    "    qc = QuantumCircuit(n, n) # create qc with n qubits and n classical to store measurement \n",
    "    qc.h(range(n)) # apply H gate for equal super pos \n",
    "\n",
    "    # cost layer for 1 edge(i,j), adds phase for max-cut\n",
    "    for i, j in G.edges():\n",
    "        qc.cx(i, j) # ties bits together so z-rotation depends on i and j\n",
    "        qc.rz(2 * gamma, j) # zz-rotation that adds phase based off of parity \n",
    "        qc.cx(i, j) # unties to restore structure of circuit \n",
    "\n",
    "    # mixer layer for phase difference interference so prob is towards better cuts \n",
    "    for q in range(n):\n",
    "        qc.rx(2 * beta, q) # RX rotation by angle 2*beta on qubit q for prob to be either 0 or 1\n",
    "\n",
    "    qc.measure(range(n), range(n)) # actually measure and store as 0 or 1\n",
    "\n",
    "    return qc"
   ]
  },
  {
   "cell_type": "code",
   "execution_count": null,
   "id": "cdc69cb7",
   "metadata": {},
   "outputs": [],
   "source": [
    "def brute_force_maxcut(G: float) -> list:\n",
    "    \"\"\"\n",
    "    Max-cut exact calculation for comparsion to QAOA on small graph G\n",
    "    \"\"\"\n",
    "    n = G.number_of_nodes() # nodes \n",
    "    best, best_bs = -1, None # highest cut size, corresponding bitstring\n",
    "\n",
    "    for bits in product('01', repeat=n): # loop over every possible bitstring, repeat over n nodes \n",
    "        s = ''.join(bits) # tuple to bitstring \n",
    "        val = cut_value(G, s) # edges \n",
    "        if val > best:\n",
    "            best, best_bs = val, s\n",
    "    return best, best_bs"
   ]
  },
  {
   "cell_type": "code",
   "execution_count": 30,
   "id": "e4a2dd30",
   "metadata": {},
   "outputs": [],
   "source": [
    "# setting up a small random graph\n",
    "seed = 1 # for reproducibility, basically telling where the randomizer to start each time\n",
    "G = nx.erdos_renyi_graph(n=5, p=0.5, seed=seed) # the graph to solve the max-cut problem on (nodes, prob, seed)\n",
    "\n",
    "# circuit params to tune \n",
    "gamma = np.pi/4\n",
    "beta  = np.pi/8\n",
    "\n",
    "# make the circuit\n",
    "qc = qaoa_circuit_p1(G, gamma, beta)\n",
    "# print(qc.draw())  \n"
   ]
  },
  {
   "cell_type": "code",
   "execution_count": null,
   "id": "e24c2817",
   "metadata": {},
   "outputs": [],
   "source": [
    "# running Aer \n",
    "backend = Aer.get_backend(\"aer_simulator\")\n",
    "tqc = transpile(qc, backend) # transpile circuit for sim \n",
    "\n",
    "shots = 1000\n",
    "result = backend.run(tqc, shots=shots, seed_simulator=seed).result()\n",
    "counts = result.get_counts()\n",
    "\n",
    "# print(\"Counts (top few):\", dict(sorted(counts.items(), key=lambda kv: kv[1], reverse=True)[:5]))\n",
    "exp_cut = expected_cut_from_counts(G, counts)\n",
    "# print(\"Expected cut (with these params):\", round(exp_cut, 3))\n",
    "most_probable = max(counts, key=counts.get)\n",
    "# print(\"Most common bitstring:\", most_probable, \"  cut:\", cut_value(G, most_probable))\n",
    "\n"
   ]
  },
  {
   "cell_type": "code",
   "execution_count": 32,
   "id": "37f3c13f",
   "metadata": {},
   "outputs": [],
   "source": [
    "# # --- Plot the graph structure (before QAOA) ---\n",
    "\n",
    "# pos = nx.spring_layout(G, seed=1)  # layout for consistent positions\n",
    "# plt.figure()\n",
    "# nx.draw(G, pos, with_labels=True)\n",
    "# plt.title(\"Graph G\")\n",
    "# plt.axis(\"off\")\n",
    "# plt.show()\n",
    "\n",
    "# # --- Plot the best observed partition from the last run ---\n",
    "# # (uses `counts` from your previous cell)\n",
    "# from collections import Counter\n",
    "\n",
    "# most_probable = max(counts, key=counts.get)  # bitstring with highest frequency\n",
    "# partA = [i for i, b in enumerate(most_probable) if b == \"0\"]\n",
    "# partB = [i for i, b in enumerate(most_probable) if b == \"1\"]\n",
    "\n",
    "# plt.figure()\n",
    "# nx.draw_networkx_nodes(G, pos, nodelist=partA)\n",
    "# nx.draw_networkx_nodes(G, pos, nodelist=partB)\n",
    "# nx.draw_networkx_labels(G, pos)\n",
    "# nx.draw_networkx_edges(G, pos)\n",
    "# plt.title(f\"Best observed cut |S|={cut_value(G, most_probable)}  (bitstring={most_probable})\")\n",
    "# plt.axis(\"off\")\n",
    "# plt.show()\n"
   ]
  },
  {
   "cell_type": "code",
   "execution_count": 33,
   "id": "04df5e9d",
   "metadata": {},
   "outputs": [
    {
     "name": "stdout",
     "output_type": "stream",
     "text": [
      "Best expected cut: 3.59\n",
      "Best (gamma, beta): (0.3142, 1.2566)\n"
     ]
    }
   ],
   "source": [
    "# optimize \n",
    "gammas = np.linspace(0.0, np.pi, 11)      # 11 points in [0, π]\n",
    "betas  = np.linspace(0.0, np.pi/2, 11)    # 11 points in [0, π/2]\n",
    "\n",
    "best_val = -1.0\n",
    "best_gb = (None, None)\n",
    "best_counts = None\n",
    "\n",
    "for g in gammas:\n",
    "    for b in betas:\n",
    "        qc = qaoa_circuit_p1(G, g, b)\n",
    "        tqc = transpile(qc, backend)\n",
    "        result = backend.run(tqc, shots=shots, seed_simulator=1).result()\n",
    "        counts = result.get_counts()\n",
    "        exp_cut = expected_cut_from_counts(G, counts)\n",
    "        if exp_cut > best_val:\n",
    "            best_val = exp_cut\n",
    "            best_gb = (g, b)\n",
    "            best_counts = counts\n",
    "\n",
    "print(\"Best expected cut:\", round(best_val, 3))\n",
    "print(\"Best (gamma, beta):\", tuple(round(x, 4) for x in best_gb))"
   ]
  },
  {
   "cell_type": "code",
   "execution_count": 37,
   "id": "7f700807",
   "metadata": {},
   "outputs": [],
   "source": [
    "pos = nx.spring_layout(G, seed=1)\n",
    "best_bs = max(best_counts, key=best_counts.get)\n",
    "partA = [i for i, b in enumerate(best_bs) if b == \"0\"]\n",
    "partB = [i for i, b in enumerate(best_bs) if b == \"1\"]\n",
    "\n",
    "# plt.figure()\n",
    "# nx.draw_networkx_nodes(G, pos, nodelist=partA)\n",
    "# nx.draw_networkx_nodes(G, pos, nodelist=partB)\n",
    "# nx.draw_networkx_labels(G, pos)\n",
    "# nx.draw_networkx_edges(G, pos)\n",
    "# plt.title(f\"Tuned best observed cut |S|={cut_value(G, best_bs)}  (bitstring={best_bs})\")\n",
    "# plt.axis(\"off\")\n",
    "# plt.show()"
   ]
  },
  {
   "cell_type": "code",
   "execution_count": 41,
   "id": "435d981f",
   "metadata": {},
   "outputs": [
    {
     "name": "stdout",
     "output_type": "stream",
     "text": [
      "Nodes: 5  Edges: 6\n",
      "Exact Max-Cut: 6   (bitstring: 01001)\n",
      "QAOA best expected cut:      3.590  (gamma, beta) = (0.3142, 1.2566)\n",
      "Approximation ratio:         0.598\n",
      "Most common bitstring @best: 01101   cut=4\n"
     ]
    }
   ],
   "source": [
    "exact_val, exact_bs = brute_force_maxcut(G)\n",
    "approx_ratio = (best_val / exact_val) if exact_val > 0 else 0.0\n",
    "\n",
    "best_obs_bs = max(best_counts, key=best_counts.get)\n",
    "best_obs_cut = cut_value(G, best_obs_bs)\n",
    "\n",
    "print(f\"Nodes: {G.number_of_nodes()}  Edges: {G.number_of_edges()}\")\n",
    "print(f\"Exact Max-Cut: {exact_val}   (bitstring: {exact_bs})\")\n",
    "print(f\"QAOA best expected cut:      {best_val:.3f}  (gamma, beta) = ({best_gb[0]:.4f}, {best_gb[1]:.4f})\")\n",
    "print(f\"Approximation ratio:         {best_val/exact_val:.3f}\")\n",
    "print(f\"Most common bitstring @best: {best_obs_bs}   cut={best_obs_cut}\")\n"
   ]
  },
  {
   "cell_type": "code",
   "execution_count": null,
   "id": "952c5d03",
   "metadata": {},
   "outputs": [],
   "source": []
  }
 ],
 "metadata": {
  "kernelspec": {
   "display_name": "qiskit_env",
   "language": "python",
   "name": "python3"
  },
  "language_info": {
   "codemirror_mode": {
    "name": "ipython",
    "version": 3
   },
   "file_extension": ".py",
   "mimetype": "text/x-python",
   "name": "python",
   "nbconvert_exporter": "python",
   "pygments_lexer": "ipython3",
   "version": "3.10.18"
  }
 },
 "nbformat": 4,
 "nbformat_minor": 5
}
