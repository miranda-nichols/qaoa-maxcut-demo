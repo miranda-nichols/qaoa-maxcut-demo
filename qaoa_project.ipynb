{
 "cells": [
  {
   "cell_type": "markdown",
   "id": "7dc089ef",
   "metadata": {},
   "source": [
    "QAOA for Max-Cut — Learning Qiskit\n",
    "\n",
    "Here I use Qiskit to explore how the Quantum Approximate\n",
    "Optimization Algorithm (QAOA) works on a Max-Cut problem\n",
    "\n",
    "The basic idea:\n",
    "- We have a set of points (nodes) connected by lines (edges)\n",
    "- We want to split the points into two groups so that as many lines as possible\n",
    "  go between the groups\n",
    "- The number of “between-group” lines is called the cut size which is what will be maximized\n",
    "\n",
    "Why QAOA?\n",
    "- QAOA is a hybrid quantum–classical algorithm for solving optimization problems\n",
    "- The quantum circuit generates solutions\n",
    "- A classical loop adjusts the circuit parameters for optimization\n",
    "\n",
    "Plan for this notebook:\n",
    "1. Make a small random graph\n",
    "2. Build a simple QAOA circuit for it\n",
    "3. Run the circuit on Qiskit’s Aer simulator to get measurement results\n",
    "4. Score the results by their cut size\n",
    "5. Compare to the exact best cut for the same graph\n",
    "6. Plot the best split we find\n",
    "\n",
    "Goal: Understand the basics of building, running, and analyzing a quantum circuit in Qiskit\n"
   ]
  },
  {
   "cell_type": "code",
   "execution_count": 3,
   "id": "1932117e",
   "metadata": {},
   "outputs": [],
   "source": [
    "import numpy as np\n",
    "import networkx as nx\n",
    "import matplotlib.pyplot as plt\n",
    "from scipy.optimize import minimize\n",
    "\n",
    "from qiskit import QuantumCircuit, transpile\n",
    "from qiskit_aer import Aer"
   ]
  },
  {
   "cell_type": "code",
   "execution_count": null,
   "id": "61089514",
   "metadata": {},
   "outputs": [],
   "source": [
    "# helper functions \n",
    "\n",
    "def cut_value(G, bitstring: str) -> int:\n",
    "    \"\"\"\n",
    "    Score a bitstring (\"0101\") for Max-Cut\n",
    "    +1 for every edge whose endpoints land in different groups (0 vs 1)\n",
    "    \"\"\"\n",
    "    z = np.array([1 if c == '1' else 0 for c in bitstring], dtype=int) # stores as array \n",
    "    return sum(int(z[u] != z[v]) for u, v in G.edges()) # summing the nodes in each edge if different group\n",
    "\n",
    "def expected_cut_from_counts(G, counts: dict) -> float:\n",
    "    \"\"\"\n",
    "    Turn raw measurement counts into an expected cut size.\n",
    "    (Weighted average of cut_value over all observed bitstrings)\n",
    "    \"\"\"\n",
    "    shots = sum(counts.values()) # times the circut was ran \n",
    "    return sum((freq / shots) * cut_value(G, s) for s, freq in counts.items()) # probability * cut edges so it's like a weighting factor \n",
    "\n",
    "def qaoa_circuit_p1(G, gamma: float, beta: float) -> QuantumCircuit:\n",
    "    \"\"\"\n",
    "    Build a p=1 QAOA circuit for Max-Cut (1 cost layer -> 1 mixer layer -> measure)\n",
    "    - Start in uniform superposition (H on all qubits)\n",
    "    - Cost layer per edge: CX(i,j) -> RZ(2γ) on j -> CX(i,j)\n",
    "    - Mixer: RX(2β) on each qubit\n",
    "    - Measure all qubits\n",
    "    \"\"\"\n",
    "    # start in uniform superposition by applying Hadamard gate (putting the qubit into the sp)\n",
    "    n = G.number_of_nodes() # nodes in graph\n",
    "    qc = QuantumCircuit(n, n) # create qc with n qubits and n classical to store measurement \n",
    "    qc.h(range(n)) # apply H gate for equal super pos \n",
    "\n",
    "    # cost layer for 1 edge(i,j), adds phase for max-cut\n",
    "    for i, j in G.edges():\n",
    "        qc.cx(i, j) # ties bits together so z-rotation depends on i and j\n",
    "        qc.rz(2 * gamma, j) # zz-rotation that adds phase based off of parity \n",
    "        qc.cx(i, j) # unties to restore structure of circuit \n",
    "\n",
    "    # mixer layer for phase difference interference so prob is towards better cuts \n",
    "    for q in range(n):\n",
    "        qc.rx(2 * beta, q) # RX rotation by angle 2*beta on qubit q for prob to be either 0 or 1\n",
    "\n",
    "    qc.measure(range(n), range(n)) # actually measure and store as 0 or 1\n",
    "\n",
    "    return qc\n"
   ]
  },
  {
   "cell_type": "code",
   "execution_count": null,
   "id": "09666115",
   "metadata": {},
   "outputs": [],
   "source": []
  }
 ],
 "metadata": {
  "kernelspec": {
   "display_name": "qiskit_env",
   "language": "python",
   "name": "python3"
  },
  "language_info": {
   "codemirror_mode": {
    "name": "ipython",
    "version": 3
   },
   "file_extension": ".py",
   "mimetype": "text/x-python",
   "name": "python",
   "nbconvert_exporter": "python",
   "pygments_lexer": "ipython3",
   "version": "3.10.18"
  }
 },
 "nbformat": 4,
 "nbformat_minor": 5
}
